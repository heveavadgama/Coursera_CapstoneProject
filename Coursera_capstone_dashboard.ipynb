{
  "nbformat": 4,
  "nbformat_minor": 0,
  "metadata": {
    "colab": {
      "provenance": []
    },
    "kernelspec": {
      "name": "python3",
      "display_name": "Python 3"
    },
    "language_info": {
      "name": "python"
    }
  },
  "cells": [
    {
      "cell_type": "code",
      "execution_count": null,
      "metadata": {
        "colab": {
          "base_uri": "https://localhost:8080/"
        },
        "id": "4bFU9vVdNgZf",
        "outputId": "31b008af-7be9-4105-8e27-db499bb6b9b6"
      },
      "outputs": [
        {
          "output_type": "stream",
          "name": "stdout",
          "text": [
            "\u001b[2K   \u001b[90m━━━━━━━━━━━━━━━━━━━━━━━━━━━━━━━━━━━━━━━━\u001b[0m \u001b[32m7.9/7.9 MB\u001b[0m \u001b[31m26.4 MB/s\u001b[0m eta \u001b[36m0:00:00\u001b[0m\n",
            "\u001b[2K   \u001b[90m━━━━━━━━━━━━━━━━━━━━━━━━━━━━━━━━━━━━━━━━\u001b[0m \u001b[32m101.7/101.7 kB\u001b[0m \u001b[31m6.9 MB/s\u001b[0m eta \u001b[36m0:00:00\u001b[0m\n",
            "\u001b[2K   \u001b[90m━━━━━━━━━━━━━━━━━━━━━━━━━━━━━━━━━━━━━━━━\u001b[0m \u001b[32m1.6/1.6 MB\u001b[0m \u001b[31m39.8 MB/s\u001b[0m eta \u001b[36m0:00:00\u001b[0m\n",
            "\u001b[2K   \u001b[90m━━━━━━━━━━━━━━━━━━━━━━━━━━━━━━━━━━━━━━━━\u001b[0m \u001b[32m228.0/228.0 kB\u001b[0m \u001b[31m10.8 MB/s\u001b[0m eta \u001b[36m0:00:00\u001b[0m\n",
            "\u001b[?25h"
          ]
        }
      ],
      "source": [
        "!pip install jupyter-dash --quiet"
      ]
    },
    {
      "cell_type": "code",
      "source": [
        "!pip install dash --quiet"
      ],
      "metadata": {
        "id": "ny4mZQX-QoKq"
      },
      "execution_count": null,
      "outputs": []
    },
    {
      "cell_type": "code",
      "source": [
        "# prompt: install dash core components and dash html components\n",
        "\n",
        "!pip install dash-core-components --quiet\n",
        "!pip install dash-html-components --quiet"
      ],
      "metadata": {
        "id": "dPm-6wkHQuh8"
      },
      "execution_count": null,
      "outputs": []
    },
    {
      "cell_type": "code",
      "source": [
        "import pandas as pd\n",
        "from jupyter_dash import JupyterDash\n",
        "import dash_core_components as dcc\n",
        "import dash_html_components as html\n",
        "from dash.dependencies import Input, Output\n",
        "import plotly.express as px\n",
        "\n",
        "# Load data\n",
        "spacex_df = pd.read_csv(\"https://cf-courses-data.s3.us.cloud-object-storage.appdomain.cloud/IBM-DS0321EN-SkillsNetwork/datasets/spacex_launch_dash.csv\")\n",
        "max_payload = spacex_df['Payload Mass (kg)'].max()\n",
        "min_payload = spacex_df['Payload Mass (kg)'].min()\n",
        "\n",
        "# Init app\n",
        "app = JupyterDash(__name__)\n",
        "\n",
        "# Layout\n",
        "app.layout = html.Div(children=[\n",
        "    html.H1('SpaceX Launch Records Dashboard', style={'textAlign': 'center', 'color': '#503D36','font-size': 40}),\n",
        "    dcc.Dropdown(id='site-dropdown',\n",
        "        options=[{'label': 'All Sites', 'value': 'ALL'},\n",
        "                 {'label': 'CCAFS LC-40', 'value': 'CCAFS LC-40'},\n",
        "                 {'label': 'CCAFS SLC-40', 'value': 'CCAFS SLC-40'},\n",
        "                 {'label': 'KSC LC-39A', 'value': 'KSC LC-39A'},\n",
        "                 {'label': 'VAFB SLC-4E', 'value': 'VAFB SLC-4E'}],\n",
        "        value='ALL',\n",
        "        placeholder=\"Select a Launch Site\",\n",
        "        searchable=True),\n",
        "    html.Br(),\n",
        "    html.Div(dcc.Graph(id='success-pie-chart')),\n",
        "    html.Br(),\n",
        "    html.P(\"Payload range (Kg):\"),\n",
        "    dcc.RangeSlider(id='payload-slider', min=0, max=10000, step=1000,\n",
        "                    marks={0: '0', 2500: '2500', 5000: '5000', 7500: '7500', 10000: '10000'},\n",
        "                    value=[min_payload, max_payload]),\n",
        "    html.Div(dcc.Graph(id='success-payload-scatter-chart')),\n",
        "])\n",
        "\n",
        "# Pie chart callback\n",
        "@app.callback(Output('success-pie-chart', 'figure'),\n",
        "              Input('site-dropdown', 'value'))\n",
        "def get_pie_chart(entered_site):\n",
        "    if entered_site == 'ALL':\n",
        "        fig = px.pie(spacex_df, values='class', names='Launch Site', title='Total Success Launches By Site')\n",
        "    else:\n",
        "        filtered_df = spacex_df[spacex_df['Launch Site'] == entered_site]\n",
        "        filtered_df = filtered_df.groupby(['Launch Site', 'class']).size().reset_index(name='class count')\n",
        "        fig = px.pie(filtered_df, values='class count', names='class',\n",
        "                     title=f'Total Launch Outcome for {entered_site}')\n",
        "    return fig\n",
        "\n",
        "# Scatter chart callback\n",
        "@app.callback(Output('success-payload-scatter-chart', 'figure'),\n",
        "              [Input('site-dropdown', 'value'), Input('payload-slider', 'value')])\n",
        "def get_scatter_chart(entered_site, payload_range):\n",
        "    filtered_df = spacex_df[(spacex_df['Payload Mass (kg)'] >= payload_range[0]) &\n",
        "                            (spacex_df['Payload Mass (kg)'] <= payload_range[1])]\n",
        "    if entered_site != 'ALL':\n",
        "        filtered_df = filtered_df[filtered_df['Launch Site'] == entered_site]\n",
        "    fig = px.scatter(filtered_df, x='Payload Mass (kg)', y='class',\n",
        "                     color='Booster Version Category',\n",
        "                     title=f'Payload vs. Success for {\"All Sites\" if entered_site == \"ALL\" else entered_site}')\n",
        "    return fig\n",
        "\n",
        "# Run app\n",
        "app.run(mode='inline')"
      ],
      "metadata": {
        "colab": {
          "base_uri": "https://localhost:8080/",
          "height": 758
        },
        "id": "ZgtMgSJ5NhIA",
        "outputId": "39d9f151-87d6-4ebc-ec31-4d75bb236f3a"
      },
      "execution_count": 8,
      "outputs": [
        {
          "output_type": "stream",
          "name": "stderr",
          "text": [
            "/usr/local/lib/python3.11/dist-packages/dash/dash.py:587: UserWarning:\n",
            "\n",
            "JupyterDash is deprecated, use Dash instead.\n",
            "See https://dash.plotly.com/dash-in-jupyter for more details.\n",
            "\n"
          ]
        },
        {
          "output_type": "display_data",
          "data": {
            "text/plain": [
              "<IPython.core.display.Javascript object>"
            ],
            "application/javascript": [
              "(async (port, path, width, height, cache, element) => {\n",
              "    if (!google.colab.kernel.accessAllowed && !cache) {\n",
              "      return;\n",
              "    }\n",
              "    element.appendChild(document.createTextNode(''));\n",
              "    const url = await google.colab.kernel.proxyPort(port, {cache});\n",
              "    const iframe = document.createElement('iframe');\n",
              "    iframe.src = new URL(path, url).toString();\n",
              "    iframe.height = height;\n",
              "    iframe.width = width;\n",
              "    iframe.style.border = 0;\n",
              "    iframe.allow = [\n",
              "        'accelerometer',\n",
              "        'autoplay',\n",
              "        'camera',\n",
              "        'clipboard-read',\n",
              "        'clipboard-write',\n",
              "        'gyroscope',\n",
              "        'magnetometer',\n",
              "        'microphone',\n",
              "        'serial',\n",
              "        'usb',\n",
              "        'xr-spatial-tracking',\n",
              "    ].join('; ');\n",
              "    element.appendChild(iframe);\n",
              "  })(8050, \"/\", \"100%\", 650, false, window.element)"
            ]
          },
          "metadata": {}
        }
      ]
    },
    {
      "cell_type": "code",
      "source": [],
      "metadata": {
        "id": "vUsK4u6UN--d"
      },
      "execution_count": null,
      "outputs": []
    }
  ]
}